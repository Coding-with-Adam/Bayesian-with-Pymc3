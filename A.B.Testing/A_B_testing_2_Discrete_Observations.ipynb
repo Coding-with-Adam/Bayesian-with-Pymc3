{
 "cells": [
  {
   "cell_type": "code",
   "execution_count": 1,
   "metadata": {},
   "outputs": [
    {
     "name": "stderr",
     "output_type": "stream",
     "text": [
      "C:\\Users\\adam\\Anaconda3\\lib\\site-packages\\h5py\\__init__.py:36: FutureWarning: Conversion of the second argument of issubdtype from `float` to `np.floating` is deprecated. In future, it will be treated as `np.float64 == np.dtype(float).type`.\n",
      "  from ._conv import register_converters as _register_converters\n"
     ]
    }
   ],
   "source": [
    "import pymc3 as pm\n",
    "import matplotlib.pyplot as plt\n",
    "import seaborn as sns\n",
    "import pandas as pd\n",
    "import numpy as np\n",
    "import scipy.stats as stats"
   ]
  },
  {
   "cell_type": "markdown",
   "metadata": {},
   "source": [
    "# Comparing volunteer interview show rates b/w Actuity & Outlook"
   ]
  },
  {
   "cell_type": "markdown",
   "metadata": {},
   "source": [
    "Assume that there is some true 0<p_show_rate<1 probability that volunteers who book an interview, eventually show up to it. The observed p_show_rate is not the true p_show_rate, but we can infer the true p_show_rate from the prior and observed p_show_rate. \n",
    "* We are interested in using what we know, N (the total number of vols that booked interviews) and n (the number of vols that showed up), to estimate what p_show_rate, the true frequency of interview-shows, might be. "
   ]
  },
  {
   "cell_type": "markdown",
   "metadata": {},
   "source": [
    "January Percentage of CANCELLATIONS + NO-SHOWS: \n",
    "* Vols shown Outlook: 10 didn't show, from 71 that signed up\n",
    "* Vols shown Acuity: 7 didn't show, from 72 that signed up"
   ]
  },
  {
   "cell_type": "markdown",
   "metadata": {},
   "source": [
    "**P(true_p_showrate | observed_p_showrate) = P(obsrvd_p_showrate | true_p_showrate)*P(true_p_showrate)**"
   ]
  },
  {
   "cell_type": "code",
   "execution_count": 19,
   "metadata": {},
   "outputs": [
    {
     "name": "stdout",
     "output_type": "stream",
     "text": [
      "Acuity_show_rate(len=72):\n",
      "[1 1 1 1 1 1 1 1 0 1 1 1 1 1 1 1 1 1 1 1 0 1 1 1 1 1 1 1 0 1 1 1 1 1 1 1 1\n",
      " 0 1 1 1 1 1 1 1 1 1 1 0 1 1 1 1 1 1 1 1 1 0 1 1 1 1 1 1 0 1 1 1 1 1 1]\n",
      "Outlook_show_rate(len=71):\n",
      "[1 1 1 1 1 1 1 0 1 1 1 0 1 1 1 1 1 1 1 1 1 1 1 0 1 1 0 1 1 1 1 1 1 1 1 1 0\n",
      " 1 1 1 1 1 1 0 1 1 1 1 0 1 1 1 1 1 0 1 1 1 1 0 1 1 1 1 1 1 0 1 1 1 1]\n",
      "Acuity_show_rate mean: 0.9027777777777778\n",
      "Outlook_show_rate mean: 0.8591549295774648\n"
     ]
    }
   ],
   "source": [
    "# Outlook: 10 didn't show or cancelled, from 71 that signed up\n",
    "# Acuity: 7 didn't show or cancelled, from 72 that signed up\n",
    "\n",
    "# create 2 arrays (Outlook,Acuity) with 0's for no-shows or cancellations, 1 for show\n",
    "outlook = np.zeros(10)\n",
    "#insert the integer 1 sixty-one times in random places\n",
    "outlook_no_shows = np.insert(outlook, np.random.randint(low=0,high=11,size=61), 1) \n",
    "outlook_no_shows = outlook_no_shows.astype(int)\n",
    "\n",
    "acuity = np.zeros(7)\n",
    "acuity_no_shows = np.insert(acuity, np.random.randint(low=0,high=8,size=65), 1) \n",
    "acuity_no_shows = acuity_no_shows.astype(int)\n",
    "\n",
    "#Sidenote: if the array starts with many 1's, then the kernel shuts down\n",
    "print('Acuity_show_rate(len={}):\\n{}'.format((len(acuity_no_shows)), \n",
    "                                           acuity_no_shows))# P(observed_p_showrate) for acuity\n",
    "print('Outlook_show_rate(len={}):\\n{}'.format((len(outlook_no_shows)), \n",
    "                                           outlook_no_shows))# P(observed_p_showrate) for outlook\n",
    "print('Acuity_show_rate mean:',np.mean(acuity_no_shows))\n",
    "print('Outlook_show_rate mean:',np.mean(outlook_no_shows))"
   ]
  },
  {
   "cell_type": "code",
   "execution_count": 25,
   "metadata": {},
   "outputs": [
    {
     "data": {
      "image/png": "[encoded data removed]",
      "text/plain": [
       "<matplotlib.figure.Figure at 0x16a61f65c50>"
      ]
     },
     "metadata": {},
     "output_type": "display_data"
    },
    {
     "data": {
      "image/png": "[encoded data removed]",
      "text/plain": [
       "<matplotlib.figure.Figure at 0x16a621d1438>"
      ]
     },
     "metadata": {},
     "output_type": "display_data"
    }
   ],
   "source": [
    "plt.hist(acuity_no_shows)\n",
    "plt.show()\n",
    "plt.hist(outlook_no_shows)\n",
    "plt.show()"
   ]
  },
  {
   "cell_type": "markdown",
   "metadata": {},
   "source": [
    "Both datasets are discrete and seem to follow a bernoulli distribution. For more information on what a bernoulli distribution looks like, we used pymc3 to artifically generate one below."
   ]
  },
  {
   "cell_type": "code",
   "execution_count": 40,
   "metadata": {},
   "outputs": [
    {
     "data": {
      "image/png": "[encoded data removed]",
      "text/plain": [
       "<matplotlib.figure.Figure at 0x16a63008d30>"
      ]
     },
     "metadata": {},
     "output_type": "display_data"
    }
   ],
   "source": [
    "plt.hist(pm.Bernoulli.dist(0.87).random(size=10000))\n",
    "plt.show()"
   ]
  },
  {
   "cell_type": "markdown",
   "metadata": {},
   "source": [
    "Looks very similar to our own data distribution. As a result, we shall use Bernouli to calculate our likelihood.\n",
    "\n",
    "pm.Bernoulli() takes one paramater,p, which is probability of success. Knowing that, we have to find a prior for p. \n",
    "\n",
    "We shall use a uniform distribution from 0-1 for this prior, meaning that we are claiming complete ignorance about the prior for p because anything between 0 to 1 is as likely. ((pm.Beta.dist(1,1) is another option instead of a uniform distribution, if we prefer.)"
   ]
  },
  {
   "cell_type": "code",
   "execution_count": 20,
   "metadata": {},
   "outputs": [
    {
     "name": "stderr",
     "output_type": "stream",
     "text": [
      "Multiprocess sampling (2 chains in 2 jobs)\n",
      "CompoundStep\n",
      ">Metropolis: [p_outlook_interval__]\n",
      ">Metropolis: [p_acuity_interval__]\n",
      "The number of effective samples is smaller than 25% for some parameters.\n"
     ]
    }
   ],
   "source": [
    "with pm.Model() as model:\n",
    "    # we'll choose a uniform prior for probability of of show_rate \n",
    "    p_acuity = pm.Uniform(\"p_acuity\", 0, 1)                       # Prior: P(true_p_showrate) for acuity\n",
    "    p_outlook = pm.Uniform(\"p_outlook\", 0, 1)                     # Prior: P(true_p_showrate) for outlook\n",
    "    \n",
    "    # Define the deterministic delta function. This is our unknown of interest.\n",
    "    delta = pm.Deterministic(\"delta\", p_acuity - p_outlook)\n",
    "\n",
    "    # Set of observations                                         #likelihood: P(obsrvd_p_showrate | true_p_showrate)\n",
    "    obs_acuity = pm.Bernoulli(\"obs_acuity\", p_acuity, observed=acuity_no_shows)\n",
    "    obs_outlook = pm.Bernoulli(\"obs_outlook\", p_outlook, observed=outlook_no_shows)\n",
    "\n",
    "    # To be explained in chapter 3.\n",
    "    step = pm.Metropolis()\n",
    "    trace = pm.sample(10000, step=step)\n",
    "    burned_trace=trace[1000:]"
   ]
  },
  {
   "cell_type": "markdown",
   "metadata": {},
   "source": [
    "Draw samples"
   ]
  },
  {
   "cell_type": "code",
   "execution_count": 21,
   "metadata": {},
   "outputs": [],
   "source": [
    "p_acuity_samples = burned_trace[\"p_acuity\"]\n",
    "p_outlook_samples = burned_trace[\"p_outlook\"]\n",
    "delta_samples = burned_trace[\"delta\"]"
   ]
  },
  {
   "cell_type": "code",
   "execution_count": 44,
   "metadata": {
    "scrolled": true
   },
   "outputs": [
    {
     "data": {
      "text/html": [
       "<div>\n",
       "<style scoped>\n",
       "    .dataframe tbody tr th:only-of-type {\n",
       "        vertical-align: middle;\n",
       "    }\n",
       "\n",
       "    .dataframe tbody tr th {\n",
       "        vertical-align: top;\n",
       "    }\n",
       "\n",
       "    .dataframe thead th {\n",
       "        text-align: right;\n",
       "    }\n",
       "</style>\n",
       "<table border=\"1\" class=\"dataframe\">\n",
       "  <thead>\n",
       "    <tr style=\"text-align: right;\">\n",
       "      <th></th>\n",
       "      <th>mean</th>\n",
       "      <th>sd</th>\n",
       "      <th>mc_error</th>\n",
       "      <th>hpd_2.5</th>\n",
       "      <th>hpd_97.5</th>\n",
       "      <th>n_eff</th>\n",
       "      <th>Rhat</th>\n",
       "    </tr>\n",
       "  </thead>\n",
       "  <tbody>\n",
       "    <tr>\n",
       "      <th>p_acuity</th>\n",
       "      <td>0.891767</td>\n",
       "      <td>0.036167</td>\n",
       "      <td>0.000489</td>\n",
       "      <td>0.818065</td>\n",
       "      <td>0.954445</td>\n",
       "      <td>4245.399412</td>\n",
       "      <td>1.000052</td>\n",
       "    </tr>\n",
       "    <tr>\n",
       "      <th>p_outlook</th>\n",
       "      <td>0.849251</td>\n",
       "      <td>0.040670</td>\n",
       "      <td>0.000679</td>\n",
       "      <td>0.767572</td>\n",
       "      <td>0.925448</td>\n",
       "      <td>3677.878085</td>\n",
       "      <td>1.002493</td>\n",
       "    </tr>\n",
       "    <tr>\n",
       "      <th>delta</th>\n",
       "      <td>0.042516</td>\n",
       "      <td>0.054330</td>\n",
       "      <td>0.000846</td>\n",
       "      <td>-0.066333</td>\n",
       "      <td>0.147575</td>\n",
       "      <td>4202.500094</td>\n",
       "      <td>1.001943</td>\n",
       "    </tr>\n",
       "  </tbody>\n",
       "</table>\n",
       "</div>"
      ],
      "text/plain": [
       "               mean        sd  mc_error   hpd_2.5  hpd_97.5        n_eff  \\\n",
       "p_acuity   0.891767  0.036167  0.000489  0.818065  0.954445  4245.399412   \n",
       "p_outlook  0.849251  0.040670  0.000679  0.767572  0.925448  3677.878085   \n",
       "delta      0.042516  0.054330  0.000846 -0.066333  0.147575  4202.500094   \n",
       "\n",
       "               Rhat  \n",
       "p_acuity   1.000052  \n",
       "p_outlook  1.002493  \n",
       "delta      1.001943  "
      ]
     },
     "execution_count": 44,
     "metadata": {},
     "output_type": "execute_result"
    }
   ],
   "source": [
    "pm.summary(burned_trace)"
   ]
  },
  {
   "cell_type": "code",
   "execution_count": 45,
   "metadata": {},
   "outputs": [
    {
     "data": {
      "image/png": "[encoded data removed]",
      "text/plain": [
       "<matplotlib.figure.Figure at 0x16a63773c88>"
      ]
     },
     "metadata": {},
     "output_type": "display_data"
    }
   ],
   "source": [
    "plt.figure(figsize=(12.5, 10))\n",
    "\n",
    "ax = plt.subplot(311)\n",
    "\n",
    "plt.xlim(0.75, 1)\n",
    "plt.hist(p_acuity_samples, histtype='stepfilled', bins=25, alpha=0.85,\n",
    "         label=\"posterior of $p_acuity$\", color=\"#A60628\", normed=True)\n",
    "plt.vlines(np.mean(acuity_no_shows), 0, 90, linestyle=\"--\", label=\"obsrvd $p_acuity$\", color='red')\n",
    "plt.vlines(np.mean(p_acuity_samples), 0, 90, linestyle=\"--\", label=\"posterior $p_acuity$\", color='yellow')\n",
    "plt.legend(loc=\"upper right\")\n",
    "plt.title(\"Posterior distributions of $p_acuity$, $p_outlook$, and delta unknowns\")\n",
    "\n",
    "ax = plt.subplot(312)\n",
    "\n",
    "plt.xlim(0.75, 1)\n",
    "plt.hist(p_outlook_samples, histtype='stepfilled', bins=25, alpha=0.85,\n",
    "         label=\"posterior of $p_outlook$\", color=\"#467821\", normed=True)\n",
    "plt.vlines(np.mean(outlook_no_shows), 0, 90, linestyle=\"--\", label=\"obsrvd $p_outlook$\", color='red')\n",
    "plt.vlines(np.mean(p_outlook_samples), 0, 90, linestyle=\"--\", label=\"posterior $p_outlook$\", color='yellow')\n",
    "\n",
    "plt.legend(loc=\"upper right\")\n",
    "\n",
    "ax = plt.subplot(313)\n",
    "plt.hist(delta_samples, histtype='stepfilled', bins=30, alpha=0.85,\n",
    "         label=\"posterior of delta\", color=\"#7A68A6\", normed=True)\n",
    "\n",
    "plt.vlines(np.mean(acuity_no_shows)-np.mean(outlook_no_shows), 0, 60, linestyle=\"--\", label=\"obsrvd delta\", color='red')\n",
    "plt.vlines(np.mean(delta_samples), 0, 60, linestyle=\"--\",\n",
    "           label=\"posterior delta\", color='yellow')\n",
    "plt.vlines(0, 0, 60, color=\"black\", alpha=0.2)\n",
    "plt.legend(loc=\"upper right\");\n",
    "plt.show()"
   ]
  },
  {
   "cell_type": "markdown",
   "metadata": {},
   "source": [
    "With respect to the posterior distribution of delta, we can see that the majority of the distribution is ABOVE delta=0, implying that acuity's show rate is likely BETTER than outlook's show rate. The probability this inference is incorrect is easily computable:"
   ]
  },
  {
   "cell_type": "code",
   "execution_count": 50,
   "metadata": {},
   "outputs": [
    {
     "name": "stdout",
     "output_type": "stream",
     "text": [
      "Probability that acuity has WORSE (lower) show rate than outlook's show rate isk: 0.207\n",
      "Probability that acuity has BETTER (higher) show rate than outlook's show rate is: 0.793\n"
     ]
    }
   ],
   "source": [
    "# Count the number of samples less than 0, i.e. the area under the curve\n",
    "# before 0, represent the probability that A (acuity) is worse than B (outlook).\n",
    "print(\"Probability that acuity has WORSE (lower) show rate than outlook's show rate isk: %.3f\" % \\\n",
    "    np.mean(delta_samples < 0))\n",
    "\n",
    "print(\"Probability that acuity has BETTER (higher) show rate than outlook's show rate is: %.3f\" % \\\n",
    "    np.mean(delta_samples > 0))"
   ]
  },
  {
   "cell_type": "markdown",
   "metadata": {},
   "source": [
    "pymc3 offers a nice and quick way to show this below."
   ]
  },
  {
   "cell_type": "code",
   "execution_count": 53,
   "metadata": {},
   "outputs": [
    {
     "data": {
      "image/png": "[encoded data removed]",
      "text/plain": [
       "<matplotlib.figure.Figure at 0x16a62ac5668>"
      ]
     },
     "metadata": {},
     "output_type": "display_data"
    }
   ],
   "source": [
    "pm.plot_posterior(burned_trace,\n",
    "                  varnames=['delta'], \n",
    "                  ref_val=0, \n",
    "                  color='#87ceeb')\n",
    "plt.show()"
   ]
  },
  {
   "cell_type": "markdown",
   "metadata": {},
   "source": [
    "Summary: \n",
    "* there is a 79.3% probability that Acuity's show rate is better than Outlook's. \n",
    "* on average, Acuity's show rate is 0.04% higher than Outlook's"
   ]
  },
  {
   "cell_type": "markdown",
   "metadata": {},
   "source": [
    "# Comparing Men interview show rate b/w actuity & outlook in Jan-Feb"
   ]
  },
  {
   "cell_type": "markdown",
   "metadata": {},
   "source": [
    "* Outlook: 22/25 + 7/7   =  29 showed out of 32 booked\n",
    "* Acuity:  29/30 + 41/48 =  70 showed out of 78 booked"
   ]
  },
  {
   "cell_type": "code",
   "execution_count": 60,
   "metadata": {},
   "outputs": [
    {
     "name": "stdout",
     "output_type": "stream",
     "text": [
      "Acuity_show_rate:\n",
      "[1 1 1 1 0 1 1 1 1 1 1 1 1 1 1 1 1 1 1 1 0 1 1 1 1 1 1 1 1 1 0 1 1 1 1 1 1\n",
      " 1 1 1 1 0 1 1 1 1 1 1 1 0 1 1 1 1 1 1 1 0 1 1 1 1 1 1 1 0 1 1 1 1 1 1 0 1\n",
      " 1 1 1 1]\n",
      "Outlook_show_rate:\n",
      "[1 1 1 1 1 1 1 0 1 1 1 1 1 1 1 1 1 0 1 1 1 1 1 0 1 1 1 1 1 1 1 1]\n",
      "Accuity_show_rate mean:  0.8974358974358975\n",
      "Outlook_show_rate mean:  0.90625\n"
     ]
    }
   ],
   "source": [
    "# create 2 arrays (Outlook,Acuity) with 0's for no-show or cancellation, 1 for show\n",
    "outlook = np.zeros(3) #29 out of 32\n",
    "#insert the integer 1 twenty nine times in random places\n",
    "outlook_no_shows = np.insert(outlook, np.random.randint(low=0,high=4,size=29), 1) \n",
    "outlook_no_shows = outlook_no_shows.astype(int)\n",
    "\n",
    "acuity = np.zeros(8) #70 out of 78 \n",
    "acuity_no_shows = np.insert(acuity, np.random.randint(low=0,high=9,size=70), 1) \n",
    "acuity_no_shows = acuity_no_shows.astype(int)\n",
    "\n",
    "#Sidenote: if the array starts with many 1's, then the kernel shuts down\n",
    "print ('Acuity_show_rate:')\n",
    "print(acuity_no_shows)                                         # observed_p_showrate for acuity\n",
    "print ('Outlook_show_rate:')\n",
    "print(outlook_no_shows)                                        # observed_p_showrate for outlook\n",
    "print('Accuity_show_rate mean: ',np.mean(acuity_no_shows))\n",
    "print('Outlook_show_rate mean: ',np.mean(outlook_no_shows))"
   ]
  },
  {
   "cell_type": "markdown",
   "metadata": {},
   "source": [
    "Here we create the same model as above because the data, similarily, follows a Bernoulli distribution"
   ]
  },
  {
   "cell_type": "code",
   "execution_count": 61,
   "metadata": {},
   "outputs": [
    {
     "name": "stderr",
     "output_type": "stream",
     "text": [
      "Multiprocess sampling (2 chains in 2 jobs)\n",
      "CompoundStep\n",
      ">Metropolis: [p_outlook_interval__]\n",
      ">Metropolis: [p_acuity_interval__]\n",
      "The number of effective samples is smaller than 25% for some parameters.\n"
     ]
    }
   ],
   "source": [
    "with pm.Model() as model:\n",
    "    p_acuity = pm.Uniform(\"p_acuity\", 0, 1)                                 # Prior: P(true_p_showrate) for acuity\n",
    "    p_outlook = pm.Uniform(\"p_outlook\", 0, 1)                               # Prior: P(true_p_showrate) for outlook\n",
    "    \n",
    "    # Define the deterministic delta function. This is our unknown of interest.\n",
    "    delta = pm.Deterministic(\"delta\", p_acuity - p_outlook)\n",
    "\n",
    "    # Set of observations                                         #likelihood P(obsrvd_p_showrate | true_p_showrate)\n",
    "    obs_acuity = pm.Bernoulli(\"obs_acuity\", p_acuity, observed=acuity_no_shows)\n",
    "    obs_outlook = pm.Bernoulli(\"obs_outlook\", p_outlook, observed=outlook_no_shows)\n",
    "\n",
    "    # To be explained in chapter 3.\n",
    "    step = pm.Metropolis()\n",
    "    trace = pm.sample(10000, step=step)\n",
    "    burned_trace=trace[1000:]"
   ]
  },
  {
   "cell_type": "code",
   "execution_count": 62,
   "metadata": {},
   "outputs": [],
   "source": [
    "p_acuity_samples = burned_trace[\"p_acuity\"]\n",
    "p_outlook_samples = burned_trace[\"p_outlook\"]\n",
    "delta_samples = burned_trace[\"delta\"]"
   ]
  },
  {
   "cell_type": "code",
   "execution_count": 63,
   "metadata": {},
   "outputs": [
    {
     "data": {
      "text/html": [
       "<div>\n",
       "<style scoped>\n",
       "    .dataframe tbody tr th:only-of-type {\n",
       "        vertical-align: middle;\n",
       "    }\n",
       "\n",
       "    .dataframe tbody tr th {\n",
       "        vertical-align: top;\n",
       "    }\n",
       "\n",
       "    .dataframe thead th {\n",
       "        text-align: right;\n",
       "    }\n",
       "</style>\n",
       "<table border=\"1\" class=\"dataframe\">\n",
       "  <thead>\n",
       "    <tr style=\"text-align: right;\">\n",
       "      <th></th>\n",
       "      <th>mean</th>\n",
       "      <th>sd</th>\n",
       "      <th>mc_error</th>\n",
       "      <th>hpd_2.5</th>\n",
       "      <th>hpd_97.5</th>\n",
       "      <th>n_eff</th>\n",
       "      <th>Rhat</th>\n",
       "    </tr>\n",
       "  </thead>\n",
       "  <tbody>\n",
       "    <tr>\n",
       "      <th>p_acuity</th>\n",
       "      <td>0.888428</td>\n",
       "      <td>0.035168</td>\n",
       "      <td>0.000598</td>\n",
       "      <td>0.817607</td>\n",
       "      <td>0.950397</td>\n",
       "      <td>4072.683530</td>\n",
       "      <td>1.000802</td>\n",
       "    </tr>\n",
       "    <tr>\n",
       "      <th>p_outlook</th>\n",
       "      <td>0.883374</td>\n",
       "      <td>0.054305</td>\n",
       "      <td>0.000871</td>\n",
       "      <td>0.777872</td>\n",
       "      <td>0.978979</td>\n",
       "      <td>4503.721406</td>\n",
       "      <td>0.999958</td>\n",
       "    </tr>\n",
       "    <tr>\n",
       "      <th>delta</th>\n",
       "      <td>0.005054</td>\n",
       "      <td>0.064816</td>\n",
       "      <td>0.001032</td>\n",
       "      <td>-0.112181</td>\n",
       "      <td>0.139996</td>\n",
       "      <td>4389.722597</td>\n",
       "      <td>1.000108</td>\n",
       "    </tr>\n",
       "  </tbody>\n",
       "</table>\n",
       "</div>"
      ],
      "text/plain": [
       "               mean        sd  mc_error   hpd_2.5  hpd_97.5        n_eff  \\\n",
       "p_acuity   0.888428  0.035168  0.000598  0.817607  0.950397  4072.683530   \n",
       "p_outlook  0.883374  0.054305  0.000871  0.777872  0.978979  4503.721406   \n",
       "delta      0.005054  0.064816  0.001032 -0.112181  0.139996  4389.722597   \n",
       "\n",
       "               Rhat  \n",
       "p_acuity   1.000802  \n",
       "p_outlook  0.999958  \n",
       "delta      1.000108  "
      ]
     },
     "execution_count": 63,
     "metadata": {},
     "output_type": "execute_result"
    }
   ],
   "source": [
    "pm.summary(burned_trace)"
   ]
  },
  {
   "cell_type": "code",
   "execution_count": 64,
   "metadata": {},
   "outputs": [
    {
     "data": {
      "image/png": "[encoded data removed]",
      "text/plain": [
       "<matplotlib.figure.Figure at 0x16a61ed7cc0>"
      ]
     },
     "metadata": {},
     "output_type": "display_data"
    }
   ],
   "source": [
    "plt.figure(figsize=(12.5, 10))\n",
    "\n",
    "ax = plt.subplot(311)\n",
    "\n",
    "plt.xlim(0.75, 1)\n",
    "plt.hist(p_acuity_samples, histtype='stepfilled', bins=25, alpha=0.85,\n",
    "         label=\"posterior of $p_acuity$\", color=\"#A60628\", normed=True)\n",
    "plt.vlines(np.mean(acuity_no_shows), 0, 90, linestyle=\"--\", label=\"obsrvd $p_acuity$\", color='red')\n",
    "plt.vlines(np.mean(p_acuity_samples), 0, 90, linestyle=\"--\", label=\"posterior $p_acuity$\", color='yellow')\n",
    "plt.legend(loc=\"upper right\")\n",
    "plt.title(\"Posterior distributions of $p_acuity$, $p_outlook$, and delta unknowns\")\n",
    "\n",
    "ax = plt.subplot(312)\n",
    "\n",
    "plt.xlim(0.75, 1)\n",
    "plt.hist(p_outlook_samples, histtype='stepfilled', bins=25, alpha=0.85,\n",
    "         label=\"posterior of $p_outlook$\", color=\"#467821\", normed=True)\n",
    "plt.vlines(np.mean(outlook_no_shows), 0, 90, linestyle=\"--\", label=\"obsrvd $p_outlook$\", color='red')\n",
    "plt.vlines(np.mean(p_outlook_samples), 0, 90, linestyle=\"--\", label=\"posterior $p_outlook$\", color='yellow')\n",
    "\n",
    "plt.legend(loc=\"upper right\")\n",
    "\n",
    "ax = plt.subplot(313)\n",
    "plt.hist(delta_samples, histtype='stepfilled', bins=30, alpha=0.85,\n",
    "         label=\"posterior of delta\", color=\"#7A68A6\", normed=True)\n",
    "\n",
    "plt.vlines(np.mean(acuity_no_shows)-np.mean(outlook_no_shows), 0, 60, linestyle=\"--\", label=\"obsrvd delta\", color='red')\n",
    "plt.vlines(np.mean(delta_samples), 0, 60, linestyle=\"--\",\n",
    "           label=\"posterior delta\", color='yellow')\n",
    "plt.vlines(0, 0, 60, color=\"black\", alpha=0.2)\n",
    "plt.legend(loc=\"upper right\");\n",
    "plt.show()"
   ]
  },
  {
   "cell_type": "code",
   "execution_count": 65,
   "metadata": {},
   "outputs": [
    {
     "data": {
      "image/png": "[encoded data removed]",
      "text/plain": [
       "<matplotlib.figure.Figure at 0x16a636ddeb8>"
      ]
     },
     "metadata": {},
     "output_type": "display_data"
    }
   ],
   "source": [
    "pm.plot_posterior(burned_trace,\n",
    "                  varnames=['delta'], \n",
    "                  ref_val=0, \n",
    "                  color='#87ceeb')\n",
    "plt.show()"
   ]
  },
  {
   "cell_type": "markdown",
   "metadata": {},
   "source": [
    "We see much more uncertainty in p_outlook value (distribution is flatter, the N is a lot smaller), which is why the posterior adjusts a lot more (towards 0.5 due to uniform probability of prior p) than it does for the p_acuity. **As a result, although outlook's avg. show rate when data was observed was initialy higher than acuity's, its posterior show rate is now lower than acuity's due to its low N and high degree of uncertainty.**"
   ]
  },
  {
   "cell_type": "markdown",
   "metadata": {},
   "source": [
    "Summay:\n",
    "* when measuring show rates to interviews just for men, outlook system is just as good as acuity"
   ]
  }
 ],
 "metadata": {
  "kernelspec": {
   "display_name": "Python 3",
   "language": "python",
   "name": "python3"
  },
  "language_info": {
   "codemirror_mode": {
    "name": "ipython",
    "version": 3
   },
   "file_extension": ".py",
   "mimetype": "text/x-python",
   "name": "python",
   "nbconvert_exporter": "python",
   "pygments_lexer": "ipython3",
   "version": "3.6.4"
  }
 },
 "nbformat": 4,
 "nbformat_minor": 2
}
